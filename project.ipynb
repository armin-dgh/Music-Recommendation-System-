{
 "cells": [
  {
   "cell_type": "code",
   "execution_count": 14,
   "id": "96f57d83",
   "metadata": {},
   "outputs": [],
   "source": [
    "import numpy as np\n",
    "import pandas as pd"
   ]
  },
  {
   "cell_type": "code",
   "execution_count": 15,
   "id": "e94d207f",
   "metadata": {},
   "outputs": [
    {
     "data": {
      "text/html": [
       "<div>\n",
       "<style scoped>\n",
       "    .dataframe tbody tr th:only-of-type {\n",
       "        vertical-align: middle;\n",
       "    }\n",
       "\n",
       "    .dataframe tbody tr th {\n",
       "        vertical-align: top;\n",
       "    }\n",
       "\n",
       "    .dataframe thead th {\n",
       "        text-align: right;\n",
       "    }\n",
       "</style>\n",
       "<table border=\"1\" class=\"dataframe\">\n",
       "  <thead>\n",
       "    <tr style=\"text-align: right;\">\n",
       "      <th></th>\n",
       "      <th>artist</th>\n",
       "      <th>song</th>\n",
       "      <th>link</th>\n",
       "      <th>text</th>\n",
       "    </tr>\n",
       "  </thead>\n",
       "  <tbody>\n",
       "    <tr>\n",
       "      <th>0</th>\n",
       "      <td>ABBA</td>\n",
       "      <td>Ahe's My Kind Of Girl</td>\n",
       "      <td>/a/abba/ahes+my+kind+of+girl_20598417.html</td>\n",
       "      <td>Look at her face, it's a wonderful face  \\nAnd...</td>\n",
       "    </tr>\n",
       "    <tr>\n",
       "      <th>1</th>\n",
       "      <td>ABBA</td>\n",
       "      <td>Andante, Andante</td>\n",
       "      <td>/a/abba/andante+andante_20002708.html</td>\n",
       "      <td>Take it easy with me, please  \\nTouch me gentl...</td>\n",
       "    </tr>\n",
       "    <tr>\n",
       "      <th>2</th>\n",
       "      <td>ABBA</td>\n",
       "      <td>As Good As New</td>\n",
       "      <td>/a/abba/as+good+as+new_20003033.html</td>\n",
       "      <td>I'll never know why I had to go  \\nWhy I had t...</td>\n",
       "    </tr>\n",
       "  </tbody>\n",
       "</table>\n",
       "</div>"
      ],
      "text/plain": [
       "  artist                   song                                        link  \\\n",
       "0   ABBA  Ahe's My Kind Of Girl  /a/abba/ahes+my+kind+of+girl_20598417.html   \n",
       "1   ABBA       Andante, Andante       /a/abba/andante+andante_20002708.html   \n",
       "2   ABBA         As Good As New        /a/abba/as+good+as+new_20003033.html   \n",
       "\n",
       "                                                text  \n",
       "0  Look at her face, it's a wonderful face  \\nAnd...  \n",
       "1  Take it easy with me, please  \\nTouch me gentl...  \n",
       "2  I'll never know why I had to go  \\nWhy I had t...  "
      ]
     },
     "execution_count": 15,
     "metadata": {},
     "output_type": "execute_result"
    }
   ],
   "source": [
    "df = pd.read_csv('songdata.csv')\n",
    "df.head(3)"
   ]
  },
  {
   "cell_type": "code",
   "execution_count": 16,
   "id": "dbb90ef5",
   "metadata": {},
   "outputs": [
    {
     "data": {
      "text/plain": [
       "(57650, 4)"
      ]
     },
     "execution_count": 16,
     "metadata": {},
     "output_type": "execute_result"
    }
   ],
   "source": [
    "df.shape"
   ]
  },
  {
   "cell_type": "code",
   "execution_count": 17,
   "id": "ef02a56c",
   "metadata": {},
   "outputs": [],
   "source": [
    "df = df.sample(n=5000).drop('link',axis=1).reset_index(drop=True)"
   ]
  },
  {
   "cell_type": "code",
   "execution_count": 18,
   "id": "7bddd390",
   "metadata": {},
   "outputs": [
    {
     "data": {
      "text/html": [
       "<div>\n",
       "<style scoped>\n",
       "    .dataframe tbody tr th:only-of-type {\n",
       "        vertical-align: middle;\n",
       "    }\n",
       "\n",
       "    .dataframe tbody tr th {\n",
       "        vertical-align: top;\n",
       "    }\n",
       "\n",
       "    .dataframe thead th {\n",
       "        text-align: right;\n",
       "    }\n",
       "</style>\n",
       "<table border=\"1\" class=\"dataframe\">\n",
       "  <thead>\n",
       "    <tr style=\"text-align: right;\">\n",
       "      <th></th>\n",
       "      <th>artist</th>\n",
       "      <th>song</th>\n",
       "      <th>text</th>\n",
       "    </tr>\n",
       "  </thead>\n",
       "  <tbody>\n",
       "    <tr>\n",
       "      <th>0</th>\n",
       "      <td>Incubus</td>\n",
       "      <td>Vitamin</td>\n",
       "      <td>I'm born  \\nI'm alive  \\nI breathe  \\nIn a mom...</td>\n",
       "    </tr>\n",
       "    <tr>\n",
       "      <th>1</th>\n",
       "      <td>Britney Spears</td>\n",
       "      <td>Ooh La La</td>\n",
       "      <td>You don't have to look like a movie star  \\nOo...</td>\n",
       "    </tr>\n",
       "    <tr>\n",
       "      <th>2</th>\n",
       "      <td>Kinks</td>\n",
       "      <td>Jack The Idiot Dunce</td>\n",
       "      <td>Who's the fool with the cross-eyed stare,  \\nT...</td>\n",
       "    </tr>\n",
       "    <tr>\n",
       "      <th>3</th>\n",
       "      <td>Styx</td>\n",
       "      <td>More Love For The Money</td>\n",
       "      <td>The cats were on the table  \\nThey were waitin...</td>\n",
       "    </tr>\n",
       "    <tr>\n",
       "      <th>4</th>\n",
       "      <td>Paul McCartney</td>\n",
       "      <td>Hi, Hi, Hi</td>\n",
       "      <td>Well, when I met you at the station  \\nYou wer...</td>\n",
       "    </tr>\n",
       "    <tr>\n",
       "      <th>...</th>\n",
       "      <td>...</td>\n",
       "      <td>...</td>\n",
       "      <td>...</td>\n",
       "    </tr>\n",
       "    <tr>\n",
       "      <th>4995</th>\n",
       "      <td>Jennifer Lopez</td>\n",
       "      <td>Charades</td>\n",
       "      <td>Break it, you buy it  \\nNothing's for free  \\n...</td>\n",
       "    </tr>\n",
       "    <tr>\n",
       "      <th>4996</th>\n",
       "      <td>Dan Fogelberg</td>\n",
       "      <td>Scarecrow's Dream</td>\n",
       "      <td>Seldom seen  \\nA scarecrow's dream  \\nI hang i...</td>\n",
       "    </tr>\n",
       "    <tr>\n",
       "      <th>4997</th>\n",
       "      <td>Allman Brothers Band</td>\n",
       "      <td>Melissa</td>\n",
       "      <td>Crossroads, seem to come and go, yeah.  \\nThe ...</td>\n",
       "    </tr>\n",
       "    <tr>\n",
       "      <th>4998</th>\n",
       "      <td>The Monkees</td>\n",
       "      <td>Goin' Down</td>\n",
       "      <td>Sock it to me  \\nFloatin' down the river  \\nWi...</td>\n",
       "    </tr>\n",
       "    <tr>\n",
       "      <th>4999</th>\n",
       "      <td>Eurythmics</td>\n",
       "      <td>You Talk A Lot</td>\n",
       "      <td>You talk a lot  \\nYou laugh a lot  \\nYes you t...</td>\n",
       "    </tr>\n",
       "  </tbody>\n",
       "</table>\n",
       "<p>5000 rows × 3 columns</p>\n",
       "</div>"
      ],
      "text/plain": [
       "                    artist                     song  \\\n",
       "0                  Incubus                  Vitamin   \n",
       "1           Britney Spears                Ooh La La   \n",
       "2                    Kinks     Jack The Idiot Dunce   \n",
       "3                     Styx  More Love For The Money   \n",
       "4           Paul McCartney               Hi, Hi, Hi   \n",
       "...                    ...                      ...   \n",
       "4995        Jennifer Lopez                 Charades   \n",
       "4996         Dan Fogelberg        Scarecrow's Dream   \n",
       "4997  Allman Brothers Band                  Melissa   \n",
       "4998           The Monkees               Goin' Down   \n",
       "4999            Eurythmics           You Talk A Lot   \n",
       "\n",
       "                                                   text  \n",
       "0     I'm born  \\nI'm alive  \\nI breathe  \\nIn a mom...  \n",
       "1     You don't have to look like a movie star  \\nOo...  \n",
       "2     Who's the fool with the cross-eyed stare,  \\nT...  \n",
       "3     The cats were on the table  \\nThey were waitin...  \n",
       "4     Well, when I met you at the station  \\nYou wer...  \n",
       "...                                                 ...  \n",
       "4995  Break it, you buy it  \\nNothing's for free  \\n...  \n",
       "4996  Seldom seen  \\nA scarecrow's dream  \\nI hang i...  \n",
       "4997  Crossroads, seem to come and go, yeah.  \\nThe ...  \n",
       "4998  Sock it to me  \\nFloatin' down the river  \\nWi...  \n",
       "4999  You talk a lot  \\nYou laugh a lot  \\nYes you t...  \n",
       "\n",
       "[5000 rows x 3 columns]"
      ]
     },
     "execution_count": 18,
     "metadata": {},
     "output_type": "execute_result"
    }
   ],
   "source": [
    "df"
   ]
  },
  {
   "cell_type": "code",
   "execution_count": 19,
   "id": "f587691e",
   "metadata": {},
   "outputs": [
    {
     "data": {
      "text/plain": [
       "\"I'm born  \\nI'm alive  \\nI breathe  \\nIn a moment or two I realize,  \\nThat the sphere upon which I reside,  \\nIs asleep on its feet.  \\nShould I go back to sleep?  \\nWe orbit the sun  \\nI grow up  \\nMy open eyes see  \\n  \\nA zombified, somnambulist society.  \\nLeaving us as vitamins  \\nFor the hibernating human animal.  \\nDo you see what I mean?  \\nYou stare at me like a vitamin  \\nOn the surface you hate,  \\nBut you know you need me.  \\n  \\nI'll come dressed as any pill you deem fit.  \\nWhatever helps you swallow truth  \\nAll the more easily.  \\n  \\nAnd I wonder, will you digest me?  \\nInto the sleep machine I won't plug in,  \\nIn fact I'd rather die before I will comply.  \\nTo you, my friend,  \\nI write the reason I still live,  \\n'cause in my mind it's set the vitamin is ripe to give  \\nComing closer to another 2000 years  \\nYou and I will pry  \\nThe closed eye of the sleep machine\\n\\n\""
      ]
     },
     "execution_count": 19,
     "metadata": {},
     "output_type": "execute_result"
    }
   ],
   "source": [
    "# CLEANING \n",
    "df['text'][0]"
   ]
  },
  {
   "cell_type": "code",
   "execution_count": 25,
   "id": "d2131dda",
   "metadata": {},
   "outputs": [],
   "source": [
    "df['text'] = df['text'].str.lower().replace(r'[^\\w\\s]','').replace(r'\\n',' ', regex=True)\n"
   ]
  },
  {
   "cell_type": "code",
   "execution_count": 26,
   "id": "54e91464",
   "metadata": {},
   "outputs": [
    {
     "data": {
      "text/plain": [
       "\"i'm born   i'm alive   i breathe   in a moment or two i realize,   that the sphere upon which i reside,   is asleep on its feet.   should i go back to sleep?   we orbit the sun   i grow up   my open eyes see      a zombified, somnambulist society.   leaving us as vitamins   for the hibernating human animal.   do you see what i mean?   you stare at me like a vitamin   on the surface you hate,   but you know you need me.      i'll come dressed as any pill you deem fit.   whatever helps you swallow truth   all the more easily.      and i wonder, will you digest me?   into the sleep machine i won't plug in,   in fact i'd rather die before i will comply.   to you, my friend,   i write the reason i still live,   'cause in my mind it's set the vitamin is ripe to give   coming closer to another 2000 years   you and i will pry   the closed eye of the sleep machine  \""
      ]
     },
     "execution_count": 26,
     "metadata": {},
     "output_type": "execute_result"
    }
   ],
   "source": [
    "df['text'][0]"
   ]
  },
  {
   "cell_type": "code",
   "execution_count": 33,
   "id": "e9c030c0",
   "metadata": {},
   "outputs": [
    {
     "name": "stderr",
     "output_type": "stream",
     "text": [
      "[nltk_data] Downloading package punkt to\n",
      "[nltk_data]     C:\\Users\\ASUS\\AppData\\Roaming\\nltk_data...\n",
      "[nltk_data]   Package punkt is already up-to-date!\n",
      "[nltk_data] Downloading package punkt_tab to\n",
      "[nltk_data]     C:\\Users\\ASUS\\AppData\\Roaming\\nltk_data...\n",
      "[nltk_data]   Unzipping tokenizers\\punkt_tab.zip.\n"
     ]
    }
   ],
   "source": [
    "\n",
    "import nltk\n",
    "from nltk.stem.porter import PorterStemmer\n",
    "stemmer = PorterStemmer()\n",
    "nltk.download('punkt')\n",
    "nltk.download('punkt_tab')\n",
    "\n",
    "def tokenization(txt):\n",
    "    tokens = nltk.word_tokenize(txt)\n",
    "    stemming = [stemmer.stem(w) for w in tokens]\n",
    "    return \" \".join(stemming)\n"
   ]
  },
  {
   "cell_type": "code",
   "execution_count": 34,
   "id": "ecdcd92b",
   "metadata": {},
   "outputs": [],
   "source": [
    "df['text'] = df['text'].apply(lambda x: tokenization(x))\n"
   ]
  },
  {
   "cell_type": "code",
   "execution_count": 37,
   "id": "d13e102c",
   "metadata": {},
   "outputs": [],
   "source": [
    "from sklearn.feature_extraction.text import TfidfVectorizer\n",
    "from sklearn.metrics.pairwise import cosine_similarity"
   ]
  },
  {
   "cell_type": "code",
   "execution_count": 38,
   "id": "59910a15",
   "metadata": {},
   "outputs": [],
   "source": [
    "tfidvector = TfidfVectorizer(analyzer='word',stop_words='english')\n",
    "matrix = tfidvector.fit_transform(df['text'])\n",
    "similarity = cosine_similarity(matrix)"
   ]
  },
  {
   "cell_type": "code",
   "execution_count": 39,
   "id": "b4c36d82",
   "metadata": {},
   "outputs": [
    {
     "data": {
      "text/plain": [
       "array([1.        , 0.02742392, 0.00606288, ..., 0.01434507, 0.02201942,\n",
       "       0.        ])"
      ]
     },
     "execution_count": 39,
     "metadata": {},
     "output_type": "execute_result"
    }
   ],
   "source": [
    "similarity[0]\n"
   ]
  },
  {
   "cell_type": "code",
   "execution_count": null,
   "id": "22bb552e",
   "metadata": {},
   "outputs": [],
   "source": [
    "\n",
    "\n"
   ]
  },
  {
   "cell_type": "code",
   "execution_count": 60,
   "id": "a57a7562",
   "metadata": {},
   "outputs": [],
   "source": [
    "def recommendation(song_df):\n",
    "    matches = df[df['song'] == song_df]\n",
    "    if matches.empty:\n",
    "        return []\n",
    "    \n",
    "    idx = matches.index[0]\n",
    "    distances = sorted(list(enumerate(similarity[idx])), reverse=True, key=lambda x: x[1])\n",
    "    \n",
    "    songs = [df.iloc[m_id[0]].song for m_id in distances[1:21]]\n",
    "    return songs\n"
   ]
  },
  {
   "cell_type": "code",
   "execution_count": 66,
   "id": "0b2bd9a8",
   "metadata": {},
   "outputs": [
    {
     "data": {
      "text/plain": [
       "['Perfect World',\n",
       " 'Somebody Knows',\n",
       " 'Talk Me Down',\n",
       " 'The Way',\n",
       " \"Please, Don't Talk About Me When I'm Gone\",\n",
       " \"Feel's Like Home\",\n",
       " \"I Can't Hold Out\",\n",
       " 'Talk',\n",
       " 'Had A Lot Of Love Last Night',\n",
       " 'Mystery Song',\n",
       " \"Please Don't Talk About Me When I'm Gone\",\n",
       " 'Harmonic',\n",
       " 'Talk To Me',\n",
       " 'The Way You Move',\n",
       " \"I'd Rather Believe In You\",\n",
       " 'Territorial Pissings',\n",
       " 'I Can Feel Love',\n",
       " \"That's A Man's Way\",\n",
       " 'Waiting For Girl Like You',\n",
       " 'Just The Way']"
      ]
     },
     "execution_count": 66,
     "metadata": {},
     "output_type": "execute_result"
    }
   ],
   "source": [
    "recommendation('You Talk A Lot')\n"
   ]
  },
  {
   "cell_type": "code",
   "execution_count": null,
   "id": "051a6e5f",
   "metadata": {},
   "outputs": [],
   "source": [
    "# save model\n",
    "import pickle\n",
    "pickle.dump(similarity,open('similarity.pkl','wb'))\n",
    "pickle.dump(df,open('df.pkl','wb'))"
   ]
  }
 ],
 "metadata": {
  "kernelspec": {
   "display_name": "base",
   "language": "python",
   "name": "python3"
  },
  "language_info": {
   "codemirror_mode": {
    "name": "ipython",
    "version": 3
   },
   "file_extension": ".py",
   "mimetype": "text/x-python",
   "name": "python",
   "nbconvert_exporter": "python",
   "pygments_lexer": "ipython3",
   "version": "3.12.7"
  }
 },
 "nbformat": 4,
 "nbformat_minor": 5
}
